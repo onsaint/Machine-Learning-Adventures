{
 "cells": [
  {
   "cell_type": "code",
   "execution_count": 1,
   "metadata": {},
   "outputs": [],
   "source": [
    "import numpy as np\n",
    "import pandas as pd\n",
    "%matplotlib inline\n",
    "import matplotlib.pyplot as plt\n",
    "\n",
    "from sklearn import datasets\n",
    "from sklearn.preprocessing import StandardScaler\n",
    "# from sklearn.model_selection import train_test_split, learning_curve, GridSearchCV, cross_val_score\n",
    "# from sklearn.linear_model import Ridge, Lasso, ElasticNet, SGDRegressor\n",
    "# from sklearn.metrics import mean_squared_error, r2_score\n",
    "from sklearn import preprocessing\n",
    "# from sklearn.pipeline import make_pipeline\n",
    "import itertools"
   ]
  },
  {
   "cell_type": "markdown",
   "metadata": {},
   "source": [
    "## Part A: Model code\n"
   ]
  },
  {
   "cell_type": "markdown",
   "metadata": {},
   "source": [
    "### A: 2 Implement MSE "
   ]
  },
  {
   "cell_type": "code",
   "execution_count": 2,
   "metadata": {},
   "outputs": [],
   "source": [
    "mse = lambda y_true, y_pred : np.mean((y_true-y_pred)**2)"
   ]
  },
  {
   "cell_type": "code",
   "execution_count": 3,
   "metadata": {},
   "outputs": [
    {
     "name": "stdout",
     "output_type": "stream",
     "text": [
      "y_true: [4 8 0 1]\n",
      "y_pred: [9 8 7 5]\n",
      "22.5\n",
      "expected from sklearn 22.5\n"
     ]
    }
   ],
   "source": [
    "#sanity check\n",
    "y_true = np.random.randint(10, size=(4,))\n",
    "y_pred = np.random.randint(10, size=(4,))\n",
    "print('y_true:', y_true)\n",
    "print('y_pred:', y_pred)\n",
    "print(mse(y_true, y_pred))\n",
    "\n",
    "from sklearn import metrics\n",
    "print('expected from sklearn', metrics.mean_squared_error(y_true, y_pred))"
   ]
  },
  {
   "cell_type": "markdown",
   "metadata": {},
   "source": [
    "### A: 5. Implement Linear_Regression class\n",
    "\n",
    "**TODO:** Explain the math here"
   ]
  },
  {
   "cell_type": "code",
   "execution_count": 45,
   "metadata": {},
   "outputs": [],
   "source": [
    "def sgd(w, dw, learning_rate=1e-2):\n",
    "    w -= learning_rate * dw\n",
    "    return w\n",
    "\n",
    "\n",
    "class Linear_Regression(object):\n",
    "    def __init__(self, optim=sgd):\n",
    "        self.optim = sgd\n",
    "        self.params = {} #save model weights\n",
    "    def predict(self, X):\n",
    "        return X.dot(self.params['w']).reshape(-1) #(N,D) dot (D,1) = (N,1)\n",
    "    def loss(self, X, y):\n",
    "        N, D = self.X.shape\n",
    "        grads = {}#return gradient for Gradient descent update\n",
    "        #forward pass\n",
    "        scores = self.predict(X)\n",
    "\n",
    "        #backward pass\n",
    "        loss, grads = 0.0, {}\n",
    "        loss = (0.5/N) * np.sum((y-scores)**2)\n",
    "        #get mse loss and dout here\n",
    "        dout = (1/N) * (scores - y) \n",
    "        \n",
    "        #y = wx + b -> dy/db = dout/dy * dy/db = dout * 1.0\n",
    "        \n",
    "        #dout/dw = dout/dy dot dy/dw = dout dot x\n",
    "        #shape: (N,1) dot (N,D) -> X.T.dot(dout)\n",
    "        grads['w'] = X.T.dot(dout).reshape(-1,1)\n",
    "        \n",
    "        #add regulirizer strength\n",
    "        if self.regularizer is 'l2':\n",
    "            loss += (self.lambd/N)*np.sum(self.params['w']**2)\n",
    "            grads['w'] += (self.lambd/N)*self.params['w']\n",
    "        elif self.regularizer is 'l1':\n",
    "            loss += (self.lambd/N)*np.sum(self.param['w'])\n",
    "            grads['w'] += (self.lambd/N)*(1/2) * (self.param['w']/np.abs(self.param['w'])) \n",
    "            \n",
    "\n",
    "        return loss, grads\n",
    "    def fit(self, X, Y, learning_rate=1e-1, \n",
    "                   epochs=300, tol=1e-4, regularizer='l2',\n",
    "                   lambd=0.0001, verbose=False):\n",
    "        '''\n",
    "        Inputs:\n",
    "        - X: numpy array of inputs vector  (N, D)\n",
    "        - Y: numpy array of target vector (N,)\n",
    "        - learning_rate: float provide the step size\n",
    "        - epochs: int provide number of passes through in dataset\n",
    "        - tol: float or None provide the stopping criterion\n",
    "        - regularizer: string of 'l1' or 'l2'\n",
    "        - lambd: float provide regularize coeff\n",
    "        '''\n",
    "        loss_hist = []\n",
    "        self.X = X\n",
    "        self.y = Y\n",
    "        self.learning_rate = learning_rate\n",
    "        self.regularizer = regularizer\n",
    "        self.tol = tol\n",
    "        self.lambd = lambd\n",
    "        \n",
    "        self.epochs = epochs\n",
    "        \n",
    "        N, D = self.X.shape\n",
    "        \n",
    "        self.params['w'] = np.random.randn(D,1)\n",
    "        \n",
    "        for e in range(self.epochs):\n",
    "            loss, grads = self.loss(self.X, self.y)\n",
    "            \n",
    "            #perform gradient descent params update\n",
    "            for p, w in self.params.items():\n",
    "                dw = grads[p]\n",
    "                next_w = self.optim(w, dw, self.learning_rate)\n",
    "                self.params[p] = next_w\n",
    "                \n",
    "            if verbose: print('epoch', e, 'loss', loss)\n",
    "            loss_hist.append(loss)\n",
    "        return loss_hist"
   ]
  },
  {
   "cell_type": "markdown",
   "metadata": {},
   "source": [
    "Sanity check "
   ]
  },
  {
   "cell_type": "code",
   "execution_count": 46,
   "metadata": {},
   "outputs": [
    {
     "data": {
      "text/plain": [
       "[<matplotlib.lines.Line2D at 0x21bc8dd3710>]"
      ]
     },
     "execution_count": 46,
     "metadata": {},
     "output_type": "execute_result"
    },
    {
     "data": {
      "image/png": "[encoded data removed]",
      "text/plain": [
       "<Figure size 432x288 with 1 Axes>"
      ]
     },
     "metadata": {
      "needs_background": "light"
     },
     "output_type": "display_data"
    }
   ],
   "source": [
    "#sanity check\n",
    "LR = Linear_Regression()\n",
    "np.random.seed(10)\n",
    "X = np.random.randn(1000,10)\n",
    "y = np.random.randint(100, size=(1000,))\n",
    "loss_hist = LR.fit(X, y, learning_rate=1e-2, verbose=False)\n",
    "plt.plot(loss_hist)"
   ]
  },
  {
   "cell_type": "markdown",
   "metadata": {},
   "source": [
    "### A.1: Implement polynomialFeature function"
   ]
  },
  {
   "cell_type": "code",
   "execution_count": 47,
   "metadata": {},
   "outputs": [],
   "source": [
    "def polynomialFeatures(X, degree):\n",
    "    '''\n",
    "    Arguments:\n",
    "\n",
    "    X : ndarray \n",
    "        A numpy array with rows representing data samples and columns representing features (d-dimensional feature).\n",
    "\n",
    "    degree : integer\n",
    "        The degree of the polynomial features. Default = 1.\n",
    "\n",
    "    Returns:\n",
    "\n",
    "        A new feature matrix consisting of all polynomial combinations of the features with degree equal to the specified degree. \n",
    "        For example, if an input sample is two dimensional and of the form [a, b], \n",
    "        the degree-2 polynomial features are [a, b, a2, ab, b2].\n",
    "    '''\n",
    "    map_terms = {}\n",
    "    poly_term = []\n",
    "    result_term = []\n",
    "    for i in range(X.shape[1]):\n",
    "        map_terms[i] = X[:,i]\n",
    "        poly_term.append(i)\n",
    "\n",
    "    terms = get_polynomial(poly_term, degree)\n",
    "    result = 1\n",
    "    for sublst in terms:\n",
    "        for x in sublst:\n",
    "            if x == 'cons':\n",
    "                result *= np.ones((X.shape[0],), dtype=int)\n",
    "            else:\n",
    "                result *= map_terms[x] \n",
    "                \n",
    "        result_term.append(result)\n",
    "        result = 1\n",
    "    \n",
    "    return np.array(result_term).T\n",
    "\n",
    "def get_polynomial(vars, degree):\n",
    "\n",
    "    vars.append(\"cons\") # add dummy variable\n",
    "    \n",
    "    # compute all combinations of variables\n",
    "    terms = []\n",
    "    for x in itertools.combinations_with_replacement(vars, degree):\n",
    "        terms.append(x)\n",
    "\n",
    "    # get rid of \"c\" terms\n",
    "    terms = map(list, terms)\n",
    "    terms = list(terms)\n",
    " \n",
    "    return terms"
   ]
  },
  {
   "cell_type": "code",
   "execution_count": 48,
   "metadata": {},
   "outputs": [
    {
     "name": "stdout",
     "output_type": "stream",
     "text": [
      "\n",
      "Example of get_polynomial() function.\n",
      "This will return combinatoric of n between 2 variables\n"
     ]
    },
    {
     "data": {
      "text/plain": [
       "[['x1', 'x1', 'x1'],\n",
       " ['x1', 'x1', 'x2'],\n",
       " ['x1', 'x1', 'x3'],\n",
       " ['x1', 'x1', 'cons'],\n",
       " ['x1', 'x2', 'x2'],\n",
       " ['x1', 'x2', 'x3'],\n",
       " ['x1', 'x2', 'cons'],\n",
       " ['x1', 'x3', 'x3'],\n",
       " ['x1', 'x3', 'cons'],\n",
       " ['x1', 'cons', 'cons'],\n",
       " ['x2', 'x2', 'x2'],\n",
       " ['x2', 'x2', 'x3'],\n",
       " ['x2', 'x2', 'cons'],\n",
       " ['x2', 'x3', 'x3'],\n",
       " ['x2', 'x3', 'cons'],\n",
       " ['x2', 'cons', 'cons'],\n",
       " ['x3', 'x3', 'x3'],\n",
       " ['x3', 'x3', 'cons'],\n",
       " ['x3', 'cons', 'cons'],\n",
       " ['cons', 'cons', 'cons']]"
      ]
     },
     "metadata": {},
     "output_type": "display_data"
    },
    {
     "name": "stdout",
     "output_type": "stream",
     "text": [
      "polynomial features\n",
      "[[ 4  6  8  2  9 12  3 16  4  1]\n",
      " [ 1  2  2  1  4  4  2  4  2  1]]\n",
      "\n",
      "\n",
      "__________Expected from Sklearn________\n",
      "Note: here our result does math with sklearn, \n",
      "order are mixed. but SGD keep order consistence\n",
      "when training.\n",
      "\n"
     ]
    },
    {
     "data": {
      "text/plain": [
       "array([[ 1.,  2.,  3.,  4.,  4.,  6.,  8.,  9., 12., 16.],\n",
       "       [ 1.,  1.,  2.,  2.,  1.,  2.,  2.,  4.,  4.,  4.]])"
      ]
     },
     "execution_count": 48,
     "metadata": {},
     "output_type": "execute_result"
    }
   ],
   "source": [
    "#sanity check\n",
    "X = np.array([\n",
    "    [2,3,4],\n",
    "    [1,2,2]\n",
    "])\n",
    "y = np.array([0,3])\n",
    "\n",
    "print('''\n",
    "Example of get_polynomial() function.\n",
    "This will return combinatoric of n between 2 variables''')\n",
    "display(get_polynomial(['x1', 'x2', 'x3'], 3))\n",
    "print(\"polynomial features\")\n",
    "print(polynomialFeatures(X, 2))\n",
    "\n",
    "print('''\n",
    "\\n__________Expected from Sklearn________\n",
    "Note: here our result does math with sklearn, \n",
    "order are mixed. but SGD keep order consistence\n",
    "when training.\n",
    "''')\n",
    "poly = preprocessing.PolynomialFeatures(2)\n",
    "poly.fit_transform(X)"
   ]
  },
  {
   "cell_type": "markdown",
   "metadata": {},
   "source": [
    "### A: 4. IMplemeent plot polynomial model complexity"
   ]
  },
  {
   "cell_type": "code",
   "execution_count": null,
   "metadata": {},
   "outputs": [],
   "source": []
  },
  {
   "cell_type": "code",
   "execution_count": 8,
   "metadata": {},
   "outputs": [],
   "source": [
    "def plot_polynomial_model_complexity(model, X, Y, cv, maxPolynomialDegree, learning_rate=0.01, epochs=1000, tol=None, regularizer=None, lambd=0.0, **kwargs):\n",
    "    '''\n",
    "    Arguments:\n",
    "        model : object type that implements the “fit” and “predict” methods. An object of that type which is \n",
    "        cloned for each validation.\n",
    "        \n",
    "        X: ndarray A numpy array with rows representing data samples and columns representing features.\n",
    "        \n",
    "        Y: ndarplot_polynomial_model_complexity(LinearRegression(), X_train, y_train, 5, 5, learning_rate=0.01,\n",
    "        epochs=1000, tol=None, regularizer=None, lambd=0.0)ray A 1D numpy array with labels corresponding to \n",
    "        each row of the feature matrix X.\n",
    "        \n",
    "        cv : int integer, to specify the number of folds in a (Stratified) K-Fold,\n",
    "        \n",
    "        maxPolynomialDegree: int It will be used to determine the maximum polynomial degree for X. \n",
    "            For example, if it is set to 3, then the function will compute both the training and \n",
    "            validation mse values for degree 1, 2 and 3.\n",
    "            \n",
    "        learning_rate: float It provides the step size for parameter update.\n",
    "        \n",
    "        epochs: int The maximum number of passes over the training data for updating the weight vector.\n",
    "        \n",
    "        tol: float or None The stopping criterion. If it is not None, the iterations will stop when (error> \n",
    "        previous_error-tol).If it is None, the number of iterations will be set by the “epochs”.\n",
    "            \n",
    "        regularizer: string The string value could be one of the following: l1, l2, None. \n",
    "            If it’s set to None, the cost function without the regularization term will be used for computing \n",
    "            the gradientand updating the weight vector. However, if it’s set to l1 or l2, the appropriate \n",
    "            regularized cost function needs to be used for computing the gradient and updating the weight vector.\n",
    "            \n",
    "        lambd: float It provides theregularization coefficient.It is used only when the “regularizer” is set to l1 or l2.\n",
    "        \n",
    "    Returns:\n",
    "        There is no return value. This function plots the root-mean-square error (rmse) values for both the training set \n",
    "        and the validation set for degree of X between 1 and maxPolynomialDegree.\n",
    "    '''\n",
    "    degree_list = []\n",
    "    train_scores = []\n",
    "    val_scores = []\n",
    "    for i in range(1, maxPolynomialDegree + 1):\n",
    "        degree_list.append(i)\n",
    "        X_poly = polynomialFeatures(X, i)\n",
    "        x_train_folds = np.array(np.array_split(X_poly, cv))\n",
    "        y_train_folds = np.array(np.array_split(Y, cv))\n",
    "\n",
    "        train_score = 0\n",
    "        val_score = 0\n",
    "        for idx, val_fold in enumerate(x_train_folds):\n",
    "            train_folds = [f for i, f in enumerate(x_train_folds) if(i != idx)][0] #[0]: unpacking the outer list\n",
    "            label_folds = [f for i, f in enumerate(y_train_folds) if(i != idx)][0]\n",
    "            \n",
    "            model.fit(train_folds, label_folds)\n",
    "\n",
    "            train_pred = model.predict(train_folds)\n",
    "            val_pred = model.predict(val_fold)\n",
    "\n",
    "            train_score += mse(label_folds, train_pred)\n",
    "            val_score += mse(y_train_folds[idx], val_pred)\n",
    "            \n",
    "        train_scores.append(train_score/cv)\n",
    "        val_scores.append(val_score/cv)\n",
    "        \n",
    "    plt.figure(figsize=(10, 6))   \n",
    "    plt.plot(degree_list, np.sqrt(val_scores), \"ro-\", alpha=1.0, linewidth=1.0, label=\"Cross val RMSE\")\n",
    "    plt.plot(degree_list, np.sqrt(train_scores), \"bo-\", alpha=1.0, linewidth=1.0, label=\"Train RMSE\")    \n",
    "    plt.legend(loc=\"best\", fontsize=14) \n",
    "    plt.xlabel(\"Degree\")\n",
    "    plt.ylabel(\"RMSE\")\n",
    "    plt.title(\"RMSE for Varying Degree\")\n",
    "    plt.show()\n",
    "    return train_scores, val_scores"
   ]
  },
  {
   "cell_type": "code",
   "execution_count": 162,
   "metadata": {},
   "outputs": [
    {
     "name": "stdout",
     "output_type": "stream",
     "text": [
      "_____________Implemented___________\n"
     ]
    },
    {
     "data": {
      "image/png": "[encoded data removed]",
      "text/plain": [
       "<Figure size 720x432 with 1 Axes>"
      ]
     },
     "metadata": {
      "needs_background": "light"
     },
     "output_type": "display_data"
    },
    {
     "name": "stdout",
     "output_type": "stream",
     "text": [
      "\n",
      "______________Sklearn_______________\n"
     ]
    },
    {
     "data": {
      "image/png": "[encoded data removed]",
      "text/plain": [
       "<Figure size 720x432 with 1 Axes>"
      ]
     },
     "metadata": {
      "needs_background": "light"
     },
     "output_type": "display_data"
    }
   ],
   "source": [
    "X_train_ = np.random.rand(1000,10)\n",
    "y_train_ = np.random.rand(1000)\n",
    "\n",
    "print(\"_____________Implemented___________\")\n",
    "_, _ = plot_polynomial_model_complexity(Linear_Regression(), X_train_, y_train_, 5, 5, \n",
    "                                 learning_rate=0.01, epochs=1000, tol=None, \n",
    "                                 regularizer=None, lambd=0.0)\n",
    "\n",
    "print('\\n______________Sklearn_______________')\n",
    "_, _ = plot_polynomial_model_complexity(linear_model.LinearRegression(), X_train_, y_train_, 5, 5, \n",
    "                                 learning_rate=0.01, epochs=1000, tol=None, \n",
    "                                 regularizer=None, lambd=0.0)"
   ]
  },
  {
   "cell_type": "markdown",
   "metadata": {},
   "source": [
    "### A: 3. Learning curve"
   ]
  },
  {
   "cell_type": "code",
   "execution_count": 34,
   "metadata": {},
   "outputs": [],
   "source": [
    "def learning_curve(model, X, Y, cv, train_size=np.linspace(0.1, 1.0, 10), learning_rate=0.01, epochs=1000, tol=None, regularizer=None, lambd=0.0, **kwargs):\n",
    "    '''\n",
    "    Arguments: \n",
    "    - model: object type that implements the “fit” and “predict” methods. An object of that type which is cloned for each validation.\n",
    "    - X: ndarray A numpy array with rows representing data samples and columns representing features.\n",
    "    - Y: ndarray A 1D numpy array with labels corresponding to each row of the feature matrix X.\n",
    "    - cv : int integer, to specify the number of folds in a k-fold cross-validation.\n",
    "    - train_sizes : intor float Relative or absolute numbers of training examples that will be used to generate the learning curve. \n",
    "        If the dtype is float, it is regarded as a fraction of the maximum size of the training set \n",
    "        (that is determined by the selected validation method), i.e. it has to be within (0, 1]. \n",
    "        Otherwise it is interpreted as absolute sizes of the training sets. \n",
    "    - epochs :int The maximum number of passes over the training data for updating the weight vector.\n",
    "    -tol : float or None The stopping criterion. If it is not None, the iterations will stop when (error> previous_error-tol). \n",
    "         If it is None, the number of iterations will be set by the “epochs”.\n",
    "    - regularizer: string The string value could be one of the following: l1, l2, None. \n",
    "        If it’s set to None, the cost function without the regularization term will be used for computing the gradient \n",
    "        and updating the weight vector. However, if it’s set to l1 or l2, the appropriate regularized cost function needs to be used \n",
    "        for computing the gradient and updating the weight vector.\n",
    "    - lambd: floatIt provides the regularization coefficient. It is used only when the “regularizer” is set to l1 or l2.\n",
    "    Returns:\n",
    "    - train_scores : ndarray root-mean-square error(rmse) values on training sets.\n",
    "    - val_scores : ndarray root-mean-square error(rmse) values on validation sets.    \n",
    "    '''\n",
    "#edge case: value of cv must be more than sample size/ cannot be 1\n",
    "    import math\n",
    "    \n",
    "    N, D = X.shape\n",
    "    train_scores = []\n",
    "    val_scores = []\n",
    "    \n",
    "    for step in train_size:\n",
    "        cur_X = X[0:int(step*N)]\n",
    "        cur_Y = Y[0:int(step*N)]\n",
    "        x_train_folds = np.array(np.array_split(cur_X, cv))\n",
    "        y_train_folds = np.array(np.array_split(cur_Y, cv))\n",
    "        \n",
    "        train_score = 0\n",
    "        val_score = 0\n",
    "        for idx, val_fold in enumerate(x_train_folds):\n",
    "            train_folds = [f for i, f in enumerate(x_train_folds) if(i != idx)][0] #[0]: unpacking the outer list\n",
    "            label_folds = [f for i, f in enumerate(y_train_folds) if(i != idx)][0]\n",
    "\n",
    "            # Train the model\n",
    "            model.fit(train_folds, label_folds)\n",
    "\n",
    "            train_pred = model.predict(train_folds)\n",
    "            val_pred = model.predict(val_fold)\n",
    "\n",
    "            train_score += (mse(label_folds, train_pred))\n",
    "            val_score += (mse(y_train_folds[idx], val_pred))\n",
    "            \n",
    "        train_scores.append(train_score/cv)\n",
    "        val_scores.append(val_score/cv)\n",
    "    \n",
    "    return np.sqrt(train_scores), np.sqrt(val_scores)"
   ]
  },
  {
   "cell_type": "code",
   "execution_count": 56,
   "metadata": {},
   "outputs": [
    {
     "name": "stdout",
     "output_type": "stream",
     "text": [
      "[0.24618641 0.27699316 0.26949482 0.27813958 0.27219385 0.27715614\n",
      " 0.28070988 0.28641441 0.28866039 0.28236889] [0.31479189 0.31038762 0.3202737  0.31317229 0.32343933 0.32018952\n",
      " 0.30243188 0.30820342 0.31871313 0.30703864]\n"
     ]
    },
    {
     "data": {
      "image/png": "[encoded data removed]",
      "text/plain": [
       "<Figure size 432x288 with 1 Axes>"
      ]
     },
     "metadata": {
      "needs_background": "light"
     },
     "output_type": "display_data"
    },
    {
     "name": "stdout",
     "output_type": "stream",
     "text": [
      "\n",
      "________Result discussion________\n",
      "Here result is as expected. Observing the implemented-train and sklearn-train \n",
      "are diminishing in at the same rate and in the same direction. \n",
      "Since Sklearn LinearRegression.fit is implemented using OLS this result\n",
      "in an optimal solution. Our implementation is Gradient optimizing base\n",
      "therefore, our MSE score is higher.\n",
      "\n"
     ]
    }
   ],
   "source": [
    "#Sanity check\n",
    "X_train_ = np.random.rand(1000,10)\n",
    "y_train_ = np.random.rand(1000)\n",
    "a, b =learning_curve(Linear_Regression(), X_train_, y_train_, 5, \n",
    "                     learning_rate=0.01, epochs=1000, tol=None, regularizer=None, lambd=0.0)\n",
    "print(a, b)\n",
    "\n",
    "plt.plot(np.linspace(0.1, 1.0, 10),a, label='implemented-train')\n",
    "plt.plot(np.linspace(0.1, 1.0, 10),b, label='implemented-val')\n",
    "\n",
    "from sklearn import linear_model\n",
    "a, b = learning_curve(linear_model.LinearRegression(), X_train_, y_train_, 5, \n",
    "                      learning_rate=0.01, epochs=1000, tol=None, regularizer=None, lambd=0.0)\n",
    "plt.plot(np.linspace(0.1, 1.0, 10),a, label='sklearn-train')\n",
    "plt.plot(np.linspace(0.1, 1.0, 10),b, label='sklearn-val')\n",
    "plt.legend()\n",
    "plt.show()\n",
    "\n",
    "print('''\n",
    "________Result discussion________\n",
    "Here result is as expected. Observing the implemented-train and sklearn-train \n",
    "are diminishing in at the same rate and in the same direction. \n",
    "Since Sklearn LinearRegression.fit is implemented using OLS this result\n",
    "in an optimal solution. Our implementation is Gradient optimizing base\n",
    "therefore, our MSE score is higher.\n",
    "''')"
   ]
  },
  {
   "cell_type": "code",
   "execution_count": 319,
   "metadata": {
    "scrolled": false
   },
   "outputs": [
    {
     "name": "stdout",
     "output_type": "stream",
     "text": [
      "Implemented MSE 0.08342448826508195\n",
      "SKlearn MSE  0.05502934270413138\n"
     ]
    },
    {
     "data": {
      "image/png": "[encoded data removed]",
      "text/plain": [
       "<Figure size 432x288 with 1 Axes>"
      ]
     },
     "metadata": {
      "needs_background": "light"
     },
     "output_type": "display_data"
    }
   ],
   "source": [
    "#Sanity check\n",
    "X_train_ = np.random.rand(1000,2)\n",
    "y_train_ = np.random.rand(1000)\n",
    "\n",
    "X_val_ = np.random.rand(5,2)\n",
    "y_val_ = np.random.rand(5)\n",
    "\n",
    "LR = Linear_Regression()\n",
    "\n",
    "# mean_dim = np.mean(X_train_, axis=0)\n",
    "# std_dim = np.std(X_train_, axis=0)\n",
    "\n",
    "# X_train_ = (X_train_ - mean_dim)/std_dim\n",
    "\n",
    "loss_hist = LR.fit(X_train_, y_train_, learning_rate=1e-1, \n",
    "                   epochs=100, regularizer='l2',\n",
    "                   lambd=0.0001)\n",
    "pred_implemented = LR.predict(X_val_)\n",
    "\n",
    "LR_sklearn = linear_model.SGDRegressor(loss='squared_loss',penalty='l2',tol=1e-2, \n",
    "                                       alpha=1e-1, max_iter=100)\n",
    "_ = LR_sklearn.fit(X_train_, y_train_)\n",
    "pred_sk = LR_sklearn.predict(X_val_)\n",
    "\n",
    "print('Implemented MSE', mse(pred_implemented, y_val_))\n",
    "print('SKlearn MSE ',mse(pred_sk, y_val_))\n",
    "\n",
    "plt.title(\"Vertex from learn 2D weight(top view)\")\n",
    "plt.plot(LR.params['w'][0], LR.params['w'][1], 'bo', label='implemented-vertex')\n",
    "plt.plot(LR_sklearn.coef_[0], LR_sklearn.coef_[1], 'ro', label='sklearn-vertex')\n",
    "plt.legend()\n",
    "plt.ylim((-1,1))\n",
    "plt.xlim((-1,1))\n",
    "plt.show()"
   ]
  },
  {
   "cell_type": "code",
   "execution_count": 407,
   "metadata": {},
   "outputs": [
    {
     "name": "stdout",
     "output_type": "stream",
     "text": [
      "Implemented win 0.18 %oftimes  with avg_diff 41.9086189081677 %\n",
      "Sklearn win 0.82\n"
     ]
    }
   ],
   "source": [
    "#this check tell how frequen does our metrics got off base on sklearn\n",
    "def syn_prob(time=100):\n",
    "    implement_win = 0\n",
    "    sklearn_win = 0\n",
    "    avg_diff = 0.0\n",
    "    for t in range(time):\n",
    "        X_train_ = np.random.rand(1000,2)\n",
    "        y_train_ = np.random.rand(1000)\n",
    "\n",
    "        X_val_ = np.random.rand(5,2)\n",
    "        y_val_ = np.random.rand(5)\n",
    "\n",
    "        LR = Linear_Regression()\n",
    "\n",
    "        # mean_dim = np.mean(X_train_, axis=0)\n",
    "        # std_dim = np.std(X_train_, axis=0)\n",
    "\n",
    "        # X_train_ = (X_train_ - mean_dim)/std_dim\n",
    "\n",
    "        loss_hist = LR.fit(X_train_, y_train_, learning_rate=1e-1, \n",
    "                           epochs=100, regularizer='l2',\n",
    "                           lambd=0.0001)\n",
    "        pred_implemented = LR.predict(X_val_)\n",
    "\n",
    "        LR_sklearn = linear_model.SGDRegressor(loss='squared_loss',penalty='l2',tol=1e-2, \n",
    "                                               alpha=1e-1, max_iter=100)\n",
    "        _ = LR_sklearn.fit(X_train_, y_train_)\n",
    "        pred_sk = LR_sklearn.predict(X_val_)\n",
    "\n",
    "        iml = mse(pred_implemented, y_val_)\n",
    "        skl = mse(pred_sk, y_val_)\n",
    "        if iml < skl: \n",
    "            implement_win+=1 \n",
    "        else: \n",
    "            sklearn_win+=1 \n",
    "            avg_diff += abs(abs(iml) - abs(skl) )/ abs(iml)*100\n",
    "            \n",
    "    print(\"Implemented win\", implement_win/time,'%oftimes', ' with avg_diff', avg_diff/sklearn_win, '%')\n",
    "    print(\"Sklearn win\", sklearn_win/time)\n",
    "\n",
    "syn_prob(time=100)"
   ]
  },
  {
   "cell_type": "code",
   "execution_count": null,
   "metadata": {},
   "outputs": [],
   "source": []
  }
 ],
 "metadata": {
  "kernelspec": {
   "display_name": "Python 3",
   "language": "python",
   "name": "python3"
  },
  "language_info": {
   "codemirror_mode": {
    "name": "ipython",
    "version": 3
   },
   "file_extension": ".py",
   "mimetype": "text/x-python",
   "name": "python",
   "nbconvert_exporter": "python",
   "pygments_lexer": "ipython3",
   "version": "3.6.8"
  }
 },
 "nbformat": 4,
 "nbformat_minor": 2
}
